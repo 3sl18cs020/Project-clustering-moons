{
  "nbformat": 4,
  "nbformat_minor": 0,
  "metadata": {
    "kernelspec": {
      "display_name": "Python 3",
      "language": "python",
      "name": "python3"
    },
    "language_info": {
      "codemirror_mode": {
        "name": "ipython",
        "version": 3
      },
      "file_extension": ".py",
      "mimetype": "text/x-python",
      "name": "python",
      "nbconvert_exporter": "python",
      "pygments_lexer": "ipython3",
      "version": "3.8.3"
    },
    "colab": {
      "name": "Kalididdi Jayarohit Varma.ipynb",
      "provenance": [],
      "collapsed_sections": [],
      "include_colab_link": true
    }
  },
  "cells": [
    {
      "cell_type": "markdown",
      "metadata": {
        "id": "view-in-github",
        "colab_type": "text"
      },
      "source": [
        "<a href=\"https://colab.research.google.com/github/3sl18cs020/Project-clustering-moons/blob/main/Kalididdi_Jayarohit_Varma.ipynb\" target=\"_parent\"><img src=\"https://colab.research.google.com/assets/colab-badge.svg\" alt=\"Open In Colab\"/></a>"
      ]
    },
    {
      "cell_type": "markdown",
      "metadata": {
        "id": "K6uszEF-tg6Q"
      },
      "source": [
        "# Unsupervised Machine Learning - KMeans\n",
        "\n",
        "Support vector machines (SVMs) are a set of supervised learning methods used for classification, regression and outliers detection. SVMs are one of the most robust prediction methods. \n",
        "\n",
        "Sources: \n",
        "[sklearn](https://scikit-learn.org/stable/modules/generated/sklearn.cluster.KMeans.html?highlight=kmeans#sklearn.cluster.KMeans), [wikipedia](https://en.wikipedia.org/wiki/K-means_clustering)"
      ]
    },
    {
      "cell_type": "markdown",
      "metadata": {
        "id": "fUB89AR6C5Br"
      },
      "source": [
        "![kmeans.png](https://www.mathworks.com/matlabcentral/mlc-downloads/downloads/submissions/52579/versions/9/screenshot.jpg)"
      ]
    },
    {
      "cell_type": "code",
      "metadata": {
        "id": "xsKh10sMQ-yy"
      },
      "source": [
        "import pandas as pd\n",
        "import numpy as np\n",
        "import matplotlib.pyplot as plt\n",
        "from sklearn import datasets\n"
      ],
      "execution_count": 1,
      "outputs": []
    },
    {
      "cell_type": "code",
      "metadata": {
        "id": "vdPUG_3xQ-y0"
      },
      "source": [
        "# Take make moons in built dataset\n",
        "\n",
        "data_ = datasets.make_moons(200)"
      ],
      "execution_count": 2,
      "outputs": []
    },
    {
      "cell_type": "code",
      "metadata": {
        "id": "60kaCr-IQ-y1",
        "colab": {
          "base_uri": "https://localhost:8080/"
        },
        "outputId": "a978eb44-68b6-4477-d374-30b83fce1171"
      },
      "source": [
        "# check the dataset\n",
        "\n",
        "data_"
      ],
      "execution_count": 3,
      "outputs": [
        {
          "output_type": "execute_result",
          "data": {
            "text/plain": [
              "(array([[ 1.58746467e-01, -4.06408175e-02],\n",
              "        [-2.04806668e-01,  9.78802446e-01],\n",
              "        [ 1.50000000e+00, -3.66025404e-01],\n",
              "        [ 1.17364818e+00, -4.84807753e-01],\n",
              "        [ 1.99949654e+00,  4.68272067e-01],\n",
              "        [ 6.43113778e-01, -4.34147860e-01],\n",
              "        [ 9.28367933e-01,  3.71662456e-01],\n",
              "        [ 2.98525112e-01, -2.12694171e-01],\n",
              "        [-6.54860734e-01,  7.55749574e-01],\n",
              "        [ 6.30552667e-01,  7.76146464e-01],\n",
              "        [ 1.76604444e+00, -1.42787610e-01],\n",
              "        [-7.45264450e-01,  6.66769001e-01],\n",
              "        [ 8.38915426e-02,  9.90694646e-02],\n",
              "        [ 1.91610846e+00,  9.90694646e-02],\n",
              "        [ 7.33526186e-01, -4.63842159e-01],\n",
              "        [ 2.04806668e-01,  9.78802446e-01],\n",
              "        [ 6.05609687e-01,  7.95761841e-01],\n",
              "        [ 9.02926538e-01,  4.29794912e-01],\n",
              "        [ 3.20512986e-02,  2.48852013e-01],\n",
              "        [ 4.99288823e-02,  1.87966554e-01],\n",
              "        [ 9.20750043e-01, -4.96854776e-01],\n",
              "        [ 1.96794870e+00,  2.48852013e-01],\n",
              "        [-9.75429787e-01,  2.20310533e-01],\n",
              "        [ 1.87384938e+00,  1.38032639e-02],\n",
              "        [ 7.45264450e-01,  6.66769001e-01],\n",
              "        [ 2.13946905e-01, -1.18158986e-01],\n",
              "        [-8.73849377e-01,  4.86196736e-01],\n",
              "        [ 9.95471923e-01,  9.50560433e-02],\n",
              "        [-9.67948701e-01,  2.51147987e-01],\n",
              "        [ 4.72271075e-01,  8.81453363e-01],\n",
              "        [ 4.15415013e-01,  9.09631995e-01],\n",
              "        [ 9.50071118e-01,  3.12033446e-01],\n",
              "        [ 1.25611113e-02,  3.41998604e-01],\n",
              "        [ 2.45702131e-02,  2.79689467e-01],\n",
              "        [-8.23676581e-01,  5.67059864e-01],\n",
              "        [ 7.01474888e-01,  7.12694171e-01],\n",
              "        [ 1.80713027e-02,  3.10748756e-01],\n",
              "        [ 9.99496542e-01,  3.17279335e-02],\n",
              "        [ 1.99195481e+00,  3.73407546e-01],\n",
              "        [ 1.01586596e+00, -4.99874128e-01],\n",
              "        [ 1.74526445e+00, -1.66769001e-01],\n",
              "        [ 1.42016587e-01, -1.36773916e-02],\n",
              "        [ 1.29692038e+00, -4.54902241e-01],\n",
              "        [ 1.72373404e+00, -1.90079011e-01],\n",
              "        [ 9.16108457e-01,  4.00930535e-01],\n",
              "        [ 3.86345126e-01,  9.22354294e-01],\n",
              "        [ 5.00000000e-01,  8.66025404e-01],\n",
              "        [ 1.70147489e+00, -2.12694171e-01],\n",
              "        [ 4.75819158e-02,  9.98867339e-01],\n",
              "        [ 9.70734617e-02,  7.02050879e-02],\n",
              "        [ 1.26647381e+00, -4.63842159e-01],\n",
              "        [ 1.60560969e+00, -2.95761841e-01],\n",
              "        [ 8.73849377e-01,  4.86196736e-01],\n",
              "        [ 7.16320670e-02,  1.28337544e-01],\n",
              "        [ 6.13654874e-01, -4.22354294e-01],\n",
              "        [-9.87438889e-01,  1.58001396e-01],\n",
              "        [-9.50071118e-01,  3.12033446e-01],\n",
              "        [ 1.95949297e+00,  2.18267443e-01],\n",
              "        [-1.73648178e-01,  9.84807753e-01],\n",
              "        [ 1.35688622e+00, -4.34147860e-01],\n",
              "        [ 6.78509412e-01,  7.34591709e-01],\n",
              "        [ 1.42314838e-01,  9.89821442e-01],\n",
              "        [-6.05609687e-01,  7.95761841e-01],\n",
              "        [ 1.84125353e+00, -4.06408175e-02],\n",
              "        [ 1.93969262e+00,  1.57979857e-01],\n",
              "        [-8.57983413e-01,  5.13677392e-01],\n",
              "        [ 3.27067963e-01,  9.45000819e-01],\n",
              "        [ 1.47227107e+00, -3.81453363e-01],\n",
              "        [ 5.53920064e-01,  8.32569855e-01],\n",
              "        [ 2.54735550e-01, -1.66769001e-01],\n",
              "        [ 1.20480667e+00, -4.78802446e-01],\n",
              "        [ 3.56886222e-01,  9.34147860e-01],\n",
              "        [ 1.73648178e-01,  9.84807753e-01],\n",
              "        [ 8.57685162e-01, -4.89821442e-01],\n",
              "        [-9.59492974e-01,  2.81732557e-01],\n",
              "        [-5.80056910e-01,  8.14575952e-01],\n",
              "        [ 1.95007112e+00,  1.87966554e-01],\n",
              "        [ 9.97986676e-01,  6.34239197e-02],\n",
              "        [ 9.84134036e-01, -4.99874128e-01],\n",
              "        [ 1.58659638e-02,  9.99874128e-01],\n",
              "        [-9.28367933e-01,  3.71662456e-01],\n",
              "        [ 4.05070264e-02,  2.18267443e-01],\n",
              "        [ 2.35758936e-01,  9.71811568e-01],\n",
              "        [ 2.00000000e+00,  5.00000000e-01],\n",
              "        [-9.91954813e-01,  1.26592454e-01],\n",
              "        [ 0.00000000e+00,  5.00000000e-01],\n",
              "        [ 5.27728925e-01, -3.81453363e-01],\n",
              "        [-9.97986676e-01,  6.34239197e-02],\n",
              "        [-5.27225468e-01,  8.49725430e-01],\n",
              "        [ 3.45139266e-01, -2.55749574e-01],\n",
              "        [-8.41253533e-01,  5.40640817e-01],\n",
              "        [-7.66044443e-01,  6.42787610e-01],\n",
              "        [ 8.88835449e-01,  4.58226522e-01],\n",
              "        [ 5.03457617e-04,  4.68272067e-01],\n",
              "        [ 1.78605309e+00, -1.18158986e-01],\n",
              "        [ 8.41253533e-01,  5.40640817e-01],\n",
              "        [-2.96920375e-01,  9.54902241e-01],\n",
              "        [ 3.21490588e-01, -2.34591709e-01],\n",
              "        [-9.02926538e-01,  4.29794912e-01],\n",
              "        [-9.39692621e-01,  3.42020143e-01],\n",
              "        [-1.00000000e+00,  1.22464680e-16],\n",
              "        [ 1.23575894e+00, -4.71811568e-01],\n",
              "        [ 2.96920375e-01,  9.54902241e-01],\n",
              "        [ 1.90292654e+00,  7.02050879e-02],\n",
              "        [ 1.32706796e+00, -4.45000819e-01],\n",
              "        [ 7.66044443e-01,  6.42787610e-01],\n",
              "        [ 2.66473814e-01,  9.63842159e-01],\n",
              "        [ 1.76323419e-01, -6.70598639e-02],\n",
              "        [ 1.10838200e-01,  9.93838464e-01],\n",
              "        [ 2.01332353e-03,  4.36576080e-01],\n",
              "        [ 1.58005691e+00, -3.14575952e-01],\n",
              "        [-4.75819158e-02,  9.98867339e-01],\n",
              "        [ 7.64241064e-01, -4.71811568e-01],\n",
              "        [ 8.26351822e-01, -4.84807753e-01],\n",
              "        [-9.16108457e-01,  4.00930535e-01],\n",
              "        [-6.78509412e-01,  7.34591709e-01],\n",
              "        [ 1.07924996e+00, -4.96854776e-01],\n",
              "        [-9.95471923e-01,  9.50560433e-02],\n",
              "        [-2.35758936e-01,  9.71811568e-01],\n",
              "        [ 1.11083820e+00, -4.93838464e-01],\n",
              "        [ 9.52418084e-01, -4.98867339e-01],\n",
              "        [ 9.59492974e-01,  2.81732557e-01],\n",
              "        [ 1.97542979e+00,  2.79689467e-01],\n",
              "        [ 1.98743889e+00,  3.41998604e-01],\n",
              "        [ 2.76265962e-01, -1.90079011e-01],\n",
              "        [-1.58659638e-02,  9.99874128e-01],\n",
              "        [ 1.88883545e+00,  4.17734783e-02],\n",
              "        [ 1.55392006e+00, -3.32569855e-01],\n",
              "        [ 7.23734038e-01,  6.90079011e-01],\n",
              "        [ 1.80527026e+00, -9.29079291e-02],\n",
              "        [ 8.23676581e-01,  5.67059864e-01],\n",
              "        [-8.88835449e-01,  4.58226522e-01],\n",
              "        [ 9.91954813e-01,  1.26592454e-01],\n",
              "        [ 1.11164551e-01,  4.17734783e-02],\n",
              "        [ 1.85798341e+00, -1.36773916e-02],\n",
              "        [ 1.41541501e+00, -4.09631995e-01],\n",
              "        [-4.15415013e-01,  9.09631995e-01],\n",
              "        [-3.27067963e-01,  9.45000819e-01],\n",
              "        [ 1.26150623e-01,  1.38032639e-02],\n",
              "        [ 5.00000000e-01, -3.66025404e-01],\n",
              "        [-4.72271075e-01,  8.81453363e-01],\n",
              "        [ 1.38634513e+00, -4.22354294e-01],\n",
              "        [ 1.99798668e+00,  4.36576080e-01],\n",
              "        [ 6.72932037e-01, -4.45000819e-01],\n",
              "        [-8.05270258e-01,  5.92907929e-01],\n",
              "        [-4.44066613e-01,  8.95993774e-01],\n",
              "        [ 2.33955557e-01, -1.42787610e-01],\n",
              "        [ 8.89161800e-01, -4.93838464e-01],\n",
              "        [ 1.94729742e-01, -9.29079291e-02],\n",
              "        [ 1.44406661e+00, -3.95993774e-01],\n",
              "        [-3.86345126e-01,  9.22354294e-01],\n",
              "        [ 3.69447333e-01, -2.76146464e-01],\n",
              "        [ 8.04518717e-03,  3.73407546e-01],\n",
              "        [ 9.81928697e-01,  1.89251244e-01],\n",
              "        [ 4.19943090e-01, -3.14575952e-01],\n",
              "        [-5.53920064e-01,  8.32569855e-01],\n",
              "        [ 7.95193332e-01, -4.78802446e-01],\n",
              "        [-1.42314838e-01,  9.89821442e-01],\n",
              "        [ 9.87438889e-01,  1.58001396e-01],\n",
              "        [ 3.94390313e-01, -2.95761841e-01],\n",
              "        [-7.23734038e-01,  6.90079011e-01],\n",
              "        [ 1.04758192e+00, -4.98867339e-01],\n",
              "        [-1.10838200e-01,  9.93838464e-01],\n",
              "        [-7.86053095e-01,  6.18158986e-01],\n",
              "        [-7.92499569e-02,  9.96854776e-01],\n",
              "        [ 4.44066613e-01,  8.95993774e-01],\n",
              "        [-9.81928697e-01,  1.89251244e-01],\n",
              "        [-2.66473814e-01,  9.63842159e-01],\n",
              "        [ 1.65486073e+00, -2.55749574e-01],\n",
              "        [ 9.39692621e-01,  3.42020143e-01],\n",
              "        [ 1.00000000e+00,  0.00000000e+00],\n",
              "        [ 1.52722547e+00, -3.49725430e-01],\n",
              "        [ 5.55933387e-01, -3.95993774e-01],\n",
              "        [ 1.99547192e+00,  4.04943957e-01],\n",
              "        [-3.56886222e-01,  9.34147860e-01],\n",
              "        [ 4.72774532e-01, -3.49725430e-01],\n",
              "        [ 9.67948701e-01,  2.51147987e-01],\n",
              "        [ 8.57983413e-01,  5.13677392e-01],\n",
              "        [ 4.52807743e-03,  4.04943957e-01],\n",
              "        [ 7.86053095e-01,  6.18158986e-01],\n",
              "        [-7.01474888e-01,  7.12694171e-01],\n",
              "        [ 8.05270258e-01,  5.92907929e-01],\n",
              "        [ 1.67850941e+00, -2.34591709e-01],\n",
              "        [ 1.82367658e+00, -6.70598639e-02],\n",
              "        [ 9.75429787e-01,  2.20310533e-01],\n",
              "        [-9.99496542e-01,  3.17279335e-02],\n",
              "        [ 6.54860734e-01,  7.55749574e-01],\n",
              "        [-5.00000000e-01,  8.66025404e-01],\n",
              "        [ 5.80056910e-01,  8.14575952e-01],\n",
              "        [ 7.92499569e-02,  9.96854776e-01],\n",
              "        [ 6.03073792e-02,  1.57979857e-01],\n",
              "        [ 4.46079936e-01, -3.32569855e-01],\n",
              "        [ 1.98192870e+00,  3.10748756e-01],\n",
              "        [ 7.03079625e-01, -4.54902241e-01],\n",
              "        [ 5.84584987e-01, -4.09631995e-01],\n",
              "        [-6.30552667e-01,  7.76146464e-01],\n",
              "        [ 5.27225468e-01,  8.49725430e-01],\n",
              "        [ 1.14231484e+00, -4.89821442e-01],\n",
              "        [ 1.92836793e+00,  1.28337544e-01],\n",
              "        [ 1.63055267e+00, -2.76146464e-01]]),\n",
              " array([1, 0, 1, 1, 1, 1, 0, 1, 0, 0, 1, 0, 1, 1, 1, 0, 0, 0, 1, 1, 1, 1,\n",
              "        0, 1, 0, 1, 0, 0, 0, 0, 0, 0, 1, 1, 0, 0, 1, 0, 1, 1, 1, 1, 1, 1,\n",
              "        0, 0, 0, 1, 0, 1, 1, 1, 0, 1, 1, 0, 0, 1, 0, 1, 0, 0, 0, 1, 1, 0,\n",
              "        0, 1, 0, 1, 1, 0, 0, 1, 0, 0, 1, 0, 1, 0, 0, 1, 0, 1, 0, 1, 1, 0,\n",
              "        0, 1, 0, 0, 0, 1, 1, 0, 0, 1, 0, 0, 0, 1, 0, 1, 1, 0, 0, 1, 0, 1,\n",
              "        1, 0, 1, 1, 0, 0, 1, 0, 0, 1, 1, 0, 1, 1, 1, 0, 1, 1, 0, 1, 0, 0,\n",
              "        0, 1, 1, 1, 0, 0, 1, 1, 0, 1, 1, 1, 0, 0, 1, 1, 1, 1, 0, 1, 1, 0,\n",
              "        1, 0, 1, 0, 0, 1, 0, 1, 0, 0, 0, 0, 0, 0, 1, 0, 0, 1, 1, 1, 0, 1,\n",
              "        0, 0, 1, 0, 0, 0, 1, 1, 0, 0, 0, 0, 0, 0, 1, 1, 1, 1, 1, 0, 0, 1,\n",
              "        1, 1]))"
            ]
          },
          "metadata": {
            "tags": []
          },
          "execution_count": 3
        }
      ]
    },
    {
      "cell_type": "code",
      "metadata": {
        "id": "gQce4jObQ-y4"
      },
      "source": [
        "# create input dataframe\n",
        "\n",
        "inputData =pd.DataFrame(data=data_[0])"
      ],
      "execution_count": 4,
      "outputs": []
    },
    {
      "cell_type": "code",
      "metadata": {
        "id": "JZa4T6ecQ-y6",
        "colab": {
          "base_uri": "https://localhost:8080/",
          "height": 204
        },
        "outputId": "99ed71a8-e43c-45a3-d83c-cf18936c9d09"
      },
      "source": [
        "inputData.head()"
      ],
      "execution_count": 5,
      "outputs": [
        {
          "output_type": "execute_result",
          "data": {
            "text/html": [
              "<div>\n",
              "<style scoped>\n",
              "    .dataframe tbody tr th:only-of-type {\n",
              "        vertical-align: middle;\n",
              "    }\n",
              "\n",
              "    .dataframe tbody tr th {\n",
              "        vertical-align: top;\n",
              "    }\n",
              "\n",
              "    .dataframe thead th {\n",
              "        text-align: right;\n",
              "    }\n",
              "</style>\n",
              "<table border=\"1\" class=\"dataframe\">\n",
              "  <thead>\n",
              "    <tr style=\"text-align: right;\">\n",
              "      <th></th>\n",
              "      <th>0</th>\n",
              "      <th>1</th>\n",
              "    </tr>\n",
              "  </thead>\n",
              "  <tbody>\n",
              "    <tr>\n",
              "      <th>0</th>\n",
              "      <td>0.158746</td>\n",
              "      <td>-0.040641</td>\n",
              "    </tr>\n",
              "    <tr>\n",
              "      <th>1</th>\n",
              "      <td>-0.204807</td>\n",
              "      <td>0.978802</td>\n",
              "    </tr>\n",
              "    <tr>\n",
              "      <th>2</th>\n",
              "      <td>1.500000</td>\n",
              "      <td>-0.366025</td>\n",
              "    </tr>\n",
              "    <tr>\n",
              "      <th>3</th>\n",
              "      <td>1.173648</td>\n",
              "      <td>-0.484808</td>\n",
              "    </tr>\n",
              "    <tr>\n",
              "      <th>4</th>\n",
              "      <td>1.999497</td>\n",
              "      <td>0.468272</td>\n",
              "    </tr>\n",
              "  </tbody>\n",
              "</table>\n",
              "</div>"
            ],
            "text/plain": [
              "          0         1\n",
              "0  0.158746 -0.040641\n",
              "1 -0.204807  0.978802\n",
              "2  1.500000 -0.366025\n",
              "3  1.173648 -0.484808\n",
              "4  1.999497  0.468272"
            ]
          },
          "metadata": {
            "tags": []
          },
          "execution_count": 5
        }
      ]
    },
    {
      "cell_type": "code",
      "metadata": {
        "id": "EKB-TWeVZC_M",
        "colab": {
          "base_uri": "https://localhost:8080/",
          "height": 282
        },
        "outputId": "af7a2146-1791-4d7c-d8b5-e4e7a80b6a43"
      },
      "source": [
        "# create a scatter plot for inputData set\n",
        "plt.scatter(inputData[0],inputData[1])"
      ],
      "execution_count": 6,
      "outputs": [
        {
          "output_type": "execute_result",
          "data": {
            "text/plain": [
              "<matplotlib.collections.PathCollection at 0x7f246b181890>"
            ]
          },
          "metadata": {
            "tags": []
          },
          "execution_count": 6
        },
        {
          "output_type": "display_data",
          "data": {
            "image/png": "[encoded data removed]",
            "text/plain": [
              "<Figure size 432x288 with 1 Axes>"
            ]
          },
          "metadata": {
            "tags": [],
            "needs_background": "light"
          }
        }
      ]
    },
    {
      "cell_type": "code",
      "metadata": {
        "id": "d71T6NlEQ-y8",
        "colab": {
          "base_uri": "https://localhost:8080/",
          "height": 204
        },
        "outputId": "dc6a38c9-0c8a-4a49-92b0-745ebc118551"
      },
      "source": [
        "# create output dataframe\n",
        "\n",
        "outputData = pd.DataFrame(data=data_[1])\n",
        "outputData.head()"
      ],
      "execution_count": 7,
      "outputs": [
        {
          "output_type": "execute_result",
          "data": {
            "text/html": [
              "<div>\n",
              "<style scoped>\n",
              "    .dataframe tbody tr th:only-of-type {\n",
              "        vertical-align: middle;\n",
              "    }\n",
              "\n",
              "    .dataframe tbody tr th {\n",
              "        vertical-align: top;\n",
              "    }\n",
              "\n",
              "    .dataframe thead th {\n",
              "        text-align: right;\n",
              "    }\n",
              "</style>\n",
              "<table border=\"1\" class=\"dataframe\">\n",
              "  <thead>\n",
              "    <tr style=\"text-align: right;\">\n",
              "      <th></th>\n",
              "      <th>0</th>\n",
              "    </tr>\n",
              "  </thead>\n",
              "  <tbody>\n",
              "    <tr>\n",
              "      <th>0</th>\n",
              "      <td>1</td>\n",
              "    </tr>\n",
              "    <tr>\n",
              "      <th>1</th>\n",
              "      <td>0</td>\n",
              "    </tr>\n",
              "    <tr>\n",
              "      <th>2</th>\n",
              "      <td>1</td>\n",
              "    </tr>\n",
              "    <tr>\n",
              "      <th>3</th>\n",
              "      <td>1</td>\n",
              "    </tr>\n",
              "    <tr>\n",
              "      <th>4</th>\n",
              "      <td>1</td>\n",
              "    </tr>\n",
              "  </tbody>\n",
              "</table>\n",
              "</div>"
            ],
            "text/plain": [
              "   0\n",
              "0  1\n",
              "1  0\n",
              "2  1\n",
              "3  1\n",
              "4  1"
            ]
          },
          "metadata": {
            "tags": []
          },
          "execution_count": 7
        }
      ]
    },
    {
      "cell_type": "code",
      "metadata": {
        "id": "rHqAdIb3Q-y9",
        "colab": {
          "base_uri": "https://localhost:8080/",
          "height": 282
        },
        "outputId": "12296c64-7d7b-4c34-df1f-21d96f039b2c"
      },
      "source": [
        "# create a scatter plot for outputData set\n",
        "plt.scatter(inputData[0],inputData[1],c=outputData)\n",
        "\n"
      ],
      "execution_count": 8,
      "outputs": [
        {
          "output_type": "execute_result",
          "data": {
            "text/plain": [
              "<matplotlib.collections.PathCollection at 0x7f246ac7e390>"
            ]
          },
          "metadata": {
            "tags": []
          },
          "execution_count": 8
        },
        {
          "output_type": "display_data",
          "data": {
            "image/png": "[encoded data removed]",
            "text/plain": [
              "<Figure size 432x288 with 1 Axes>"
            ]
          },
          "metadata": {
            "tags": [],
            "needs_background": "light"
          }
        }
      ]
    },
    {
      "cell_type": "code",
      "metadata": {
        "id": "CCVfxR2rbG8L",
        "colab": {
          "base_uri": "https://localhost:8080/"
        },
        "outputId": "12457725-5bc8-4d7b-c824-1a013e12076e"
      },
      "source": [
        "#call the  sklearn Kmeans and make a model with 200 samples\n",
        "from sklearn.cluster import KMeans\n",
        "model=KMeans(n_clusters=5)\n",
        "model.fit(inputData)\n",
        "#model_fit"
      ],
      "execution_count": 9,
      "outputs": [
        {
          "output_type": "execute_result",
          "data": {
            "text/plain": [
              "KMeans(algorithm='auto', copy_x=True, init='k-means++', max_iter=300,\n",
              "       n_clusters=5, n_init=10, n_jobs=None, precompute_distances='auto',\n",
              "       random_state=None, tol=0.0001, verbose=0)"
            ]
          },
          "metadata": {
            "tags": []
          },
          "execution_count": 9
        }
      ]
    },
    {
      "cell_type": "code",
      "metadata": {
        "id": "yrNAq6NsQ-zE",
        "colab": {
          "base_uri": "https://localhost:8080/"
        },
        "outputId": "68d58d3e-f3cf-4392-8db2-ad33f42dd8ad"
      },
      "source": [
        "# check for labels\n",
        "model.labels_"
      ],
      "execution_count": 10,
      "outputs": [
        {
          "output_type": "execute_result",
          "data": {
            "text/plain": [
              "array([3, 0, 2, 1, 2, 1, 4, 3, 0, 4, 2, 0, 3, 2, 1, 4, 4, 4, 3, 3, 1, 2,\n",
              "       0, 2, 4, 3, 0, 1, 0, 4, 4, 1, 3, 3, 0, 4, 3, 1, 2, 1, 2, 3, 1, 2,\n",
              "       4, 4, 4, 2, 4, 3, 1, 2, 4, 3, 1, 0, 0, 2, 0, 1, 4, 4, 0, 2, 2, 0,\n",
              "       4, 1, 4, 3, 1, 4, 4, 1, 0, 0, 2, 1, 1, 4, 0, 3, 4, 2, 0, 3, 1, 0,\n",
              "       0, 3, 0, 0, 4, 3, 2, 4, 0, 3, 0, 0, 0, 1, 4, 2, 1, 4, 4, 3, 4, 3,\n",
              "       2, 4, 1, 1, 0, 0, 1, 0, 0, 1, 1, 1, 2, 2, 3, 4, 2, 2, 4, 2, 4, 0,\n",
              "       1, 3, 2, 1, 0, 0, 3, 1, 0, 1, 2, 1, 0, 0, 3, 1, 3, 1, 0, 3, 3, 1,\n",
              "       3, 0, 1, 4, 1, 3, 0, 1, 4, 0, 4, 4, 0, 0, 2, 1, 1, 2, 1, 2, 0, 3,\n",
              "       1, 4, 3, 4, 0, 4, 2, 2, 1, 0, 4, 0, 4, 4, 3, 3, 2, 1, 1, 0, 4, 1,\n",
              "       2, 2], dtype=int32)"
            ]
          },
          "metadata": {
            "tags": []
          },
          "execution_count": 10
        }
      ]
    },
    {
      "cell_type": "code",
      "metadata": {
        "id": "X79iUe2rQ-zF"
      },
      "source": [
        "from sklearn import metrics"
      ],
      "execution_count": 11,
      "outputs": []
    },
    {
      "cell_type": "code",
      "metadata": {
        "id": "mvm3k9K1Q-zG",
        "colab": {
          "base_uri": "https://localhost:8080/"
        },
        "outputId": "6cc4f538-5563-48b7-ad2e-4a3df4165cb1"
      },
      "source": [
        "# call metrics and check silhoutte score\n",
        "metrics.silhouette_score(inputData,model.labels_)\n",
        "\n"
      ],
      "execution_count": 12,
      "outputs": [
        {
          "output_type": "execute_result",
          "data": {
            "text/plain": [
              "0.48774541036914976"
            ]
          },
          "metadata": {
            "tags": []
          },
          "execution_count": 12
        }
      ]
    },
    {
      "cell_type": "code",
      "metadata": {
        "id": "hFm1n-pBQ-zH",
        "colab": {
          "base_uri": "https://localhost:8080/",
          "height": 282
        },
        "outputId": "25a8c3ef-542f-40b0-f8c2-406a1e483888"
      },
      "source": [
        "# create a scatter plot for inputData set with model labels color\n",
        "plt.scatter(inputData[0],inputData[1],c=model.labels_)\n"
      ],
      "execution_count": 13,
      "outputs": [
        {
          "output_type": "execute_result",
          "data": {
            "text/plain": [
              "<matplotlib.collections.PathCollection at 0x7f245e202f50>"
            ]
          },
          "metadata": {
            "tags": []
          },
          "execution_count": 13
        },
        {
          "output_type": "display_data",
          "data": {
            "image/png": "[encoded data removed]",
            "text/plain": [
              "<Figure size 432x288 with 1 Axes>"
            ]
          },
          "metadata": {
            "tags": [],
            "needs_background": "light"
          }
        }
      ]
    },
    {
      "cell_type": "markdown",
      "metadata": {
        "id": "g8Q8AVBTQ-zI"
      },
      "source": [
        "#### finding right number of cluster"
      ]
    },
    {
      "cell_type": "code",
      "metadata": {
        "id": "EYRpmNJTQ-zJ"
      },
      "source": [
        "cluster_range = range(1, 20)\n",
        "error_list = []\n",
        "\n",
        "for i in cluster_range:\n",
        "    model = KMeans(n_clusters=5)\n",
        "    model.fit(inputData)\n",
        "    res = model.inertia_\n",
        "    error_list.append(res)"
      ],
      "execution_count": 14,
      "outputs": []
    },
    {
      "cell_type": "code",
      "metadata": {
        "id": "jpQFhOrHQ-zK",
        "colab": {
          "base_uri": "https://localhost:8080/",
          "height": 295
        },
        "outputId": "a0c5d584-d3ca-4d81-dece-f144b64060bb"
      },
      "source": [
        "import matplotlib.pyplot as plt\n",
        "\n",
        "plt.plot(cluster_range, error_list, marker = \"o\", color = \"g\", markersize = 10)\n",
        "plt.xlabel(\"Cluster Range\")\n",
        "plt.ylabel(\"IntraCluster Sum\")\n",
        "plt.title(\"KMeans\")\n",
        "plt.show()"
      ],
      "execution_count": 15,
      "outputs": [
        {
          "output_type": "display_data",
          "data": {
            "image/png": "[encoded data removed]",
            "text/plain": [
              "<Figure size 432x288 with 1 Axes>"
            ]
          },
          "metadata": {
            "tags": [],
            "needs_background": "light"
          }
        }
      ]
    },
    {
      "cell_type": "code",
      "metadata": {
        "id": "GXu1dkppQ-zL"
      },
      "source": [
        ""
      ],
      "execution_count": 15,
      "outputs": []
    },
    {
      "cell_type": "code",
      "metadata": {
        "id": "n0yIw-HEQ-zM"
      },
      "source": [
        ""
      ],
      "execution_count": 15,
      "outputs": []
    }
  ]
}